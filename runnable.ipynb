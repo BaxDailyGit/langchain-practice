{
 "cells": [
  {
   "cell_type": "code",
   "execution_count": 2,
   "metadata": {},
   "outputs": [],
   "source": [
    "from langchain_ollama import ChatOllama\n",
    "\n",
    "llm = ChatOllama(model=\"llama3.2:1b\")\n"
   ]
  },
  {
   "cell_type": "code",
   "execution_count": 3,
   "metadata": {},
   "outputs": [
    {
     "name": "stdout",
     "output_type": "stream",
     "text": [
      "text='What is the capital of France? Return the name of the city only'\n",
      "content='Paris' additional_kwargs={} response_metadata={'model': 'llama3.2:1b', 'created_at': '2025-03-25T06:44:13.9659621Z', 'done': True, 'done_reason': 'stop', 'total_duration': 2102967900, 'load_duration': 1678795600, 'prompt_eval_count': 39, 'prompt_eval_duration': 370187800, 'eval_count': 2, 'eval_duration': 53478400, 'message': Message(role='assistant', content='', images=None, tool_calls=None)} id='run-52b09011-61e9-4062-8f76-69f98b9af000-0' usage_metadata={'input_tokens': 39, 'output_tokens': 2, 'total_tokens': 41}\n"
     ]
    }
   ],
   "source": [
    "from langchain_core.prompts import PromptTemplate\n",
    "from langchain_core.output_parsers import StrOutputParser\n",
    "\n",
    "# 명시적인 지시사항이 포함된 프롬프트 템플릿 정의\n",
    "prompt_template = PromptTemplate(\n",
    "    template=\"What is the capital of {country}? Return the name of the city only\",\n",
    "    input_variables=[\"country\"],\n",
    ")\n",
    "# 템플릿에 변수 값을 주입\n",
    "prompt = prompt_template.invoke({\"country\": \"France\"})\n",
    "\n",
    "print(prompt)\n",
    "\n",
    "# LLM에 프롬프트 전달\n",
    "ai_message = llm.invoke(prompt_template.invoke({\"country\": \"France\"}))\n",
    "\n",
    "print(ai_message)\n",
    "\n",
    "# 문자열 출력 파서 설정\n",
    "output_parser = StrOutputParser()\n",
    "\n",
    "answer = output_parser.invoke(llm.invoke(prompt_template.invoke({\"country\": \"France\"})))"
   ]
  },
  {
   "cell_type": "code",
   "execution_count": 5,
   "metadata": {},
   "outputs": [],
   "source": [
    "capital_chain = prompt_template | llm | output_parser"
   ]
  },
  {
   "cell_type": "code",
   "execution_count": 6,
   "metadata": {},
   "outputs": [
    {
     "data": {
      "text/plain": [
       "'Paris.'"
      ]
     },
     "execution_count": 6,
     "metadata": {},
     "output_type": "execute_result"
    }
   ],
   "source": [
    "capital_chain.invoke({\"country\": \"France\"})"
   ]
  },
  {
   "cell_type": "markdown",
   "metadata": {},
   "source": [
    "### 복잡한 체인 구성"
   ]
  },
  {
   "cell_type": "code",
   "execution_count": 8,
   "metadata": {},
   "outputs": [],
   "source": [
    "# 국가를 추측하는 프롬프트 템플릿 정의\n",
    "country_prompt = PromptTemplate(\n",
    "    template=\"\"\"Guess the name of the country in the {continent} based on the following information:\n",
    "    {information}\n",
    "    Return the name of the country only\n",
    "    \"\"\",\n",
    "    input_variables=[\"information\", \"continent\"],\n",
    ")\n",
    "\n",
    "# 국가 추측 체인 생성\n",
    "country_chain = country_prompt | llm | output_parser\n",
    "# country_chain.invoke({\"information\": \"This country is very famous for its wine in Europe\"})"
   ]
  },
  {
   "cell_type": "code",
   "execution_count": 9,
   "metadata": {},
   "outputs": [],
   "source": [
    "from langchain_core.runnables import RunnablePassthrough\n",
    "\n",
    "# RunnablePassthrough를 사용하여 입력을 다음 단계로 전달하는 복합 체인 구성\n",
    "final_chain = {\"information\": RunnablePassthrough(), \"continent\": RunnablePassthrough()} | {\"country\": country_chain} | capital_chain"
   ]
  },
  {
   "cell_type": "code",
   "execution_count": 10,
   "metadata": {},
   "outputs": [
    {
     "data": {
      "text/plain": [
       "'Rome.'"
      ]
     },
     "execution_count": 10,
     "metadata": {},
     "output_type": "execute_result"
    }
   ],
   "source": [
    "# 복합 체인 실행\n",
    "# 정보와 대륙을 입력하면, 해당 국가를 추측하고 그 국가의 수도를 반환\n",
    "final_chain.invoke( {\"information\": \"This country is very famous for its wine in Europe\", \"continent\": \"Europe\"})"
   ]
  },
  {
   "cell_type": "code",
   "execution_count": null,
   "metadata": {},
   "outputs": [],
   "source": []
  }
 ],
 "metadata": {
  "kernelspec": {
   "display_name": "Python 3",
   "language": "python",
   "name": "python3"
  },
  "language_info": {
   "codemirror_mode": {
    "name": "ipython",
    "version": 3
   },
   "file_extension": ".py",
   "mimetype": "text/x-python",
   "name": "python",
   "nbconvert_exporter": "python",
   "pygments_lexer": "ipython3",
   "version": "3.12.3"
  }
 },
 "nbformat": 4,
 "nbformat_minor": 2
}
